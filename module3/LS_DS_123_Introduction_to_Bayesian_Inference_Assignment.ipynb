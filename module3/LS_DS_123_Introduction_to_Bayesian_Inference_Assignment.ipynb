{
  "nbformat": 4,
  "nbformat_minor": 0,
  "metadata": {
    "colab": {
      "name": "LS_DS_123_Introduction_to_Bayesian_Inference_Assignment.ipynb",
      "provenance": []
    },
    "kernelspec": {
      "name": "python37664bitdataenvcondac48009ebdcd342ee8dd75144910fb8c3",
      "display_name": "Python 3.7.6 64-bit ('data_env': conda)"
    }
  },
  "cells": [
    {
      "cell_type": "markdown",
      "metadata": {
        "colab_type": "text",
        "id": "H7OLbevlbd_Z"
      },
      "source": [
        "# Lambda School Data Science Module 123\n",
        "\n",
        "## Introduction to Bayesian Inference\n",
        "\n",
        "\n"
      ]
    },
    {
      "cell_type": "markdown",
      "metadata": {
        "colab_type": "text",
        "id": "P-DzzRk5bf0z"
      },
      "source": [
        "## Assignment - Code it up!\n",
        "\n",
        "We used pure math to apply Bayes Theorem to drug tests. Now write Python code to reproduce the results! This is purposefully open ended - you'll have to think about how you should represent probabilities and events. You can and should look things up.\n",
        "\n",
        "Specific goals/targets:\n",
        "\n",
        "### 1) Write a function \n",
        "\n",
        "`def prob_drunk_given_positive(prob_drunk_prior, false_positive_rate):` \n",
        "\n",
        "You should only truly need these two values in order to apply Bayes Theorem. In this example, imagine that individuals are taking a breathalyzer test with an 8% false positive rate, a 100% true positive rate, and that our prior belief about drunk driving in the population is 1/1000. \n",
        " - What is the probability that a person is drunk after one positive breathalyzer test?\n",
        " - What is the probability that a person is drunk after two positive breathalyzer tests?\n",
        " - How many positive breathalyzer tests are needed in order to have a probability that's greater than 95% that a person is drunk beyond the legal limit?\n",
        "\n",
        "### 2) Explore `scipy.stats.bayes_mvs`  \n",
        "Read its documentation, and experiment with it on data you've tested in other ways earlier this week.\n",
        " - Create a visualization comparing the results of a Bayesian approach to a traditional/frequentist approach. (with a large sample size they should look close to identical, however, take this opportunity to practice visualizing condfidence intervals in general. The following are some potential ways that you could visualize confidence intervals on your graph:\n",
        "  - [Matplotlib Error Bars](https://matplotlib.org/3.1.1/api/_as_gen/matplotlib.pyplot.errorbar.html)\n",
        "  - [Seaborn barplot with error bars](https://seaborn.pydata.org/generated/seaborn.barplot.html)\n",
        "  - [Vertical ines to show bounds of confidence interval](https://www.simplypsychology.org/confidence-interval.jpg)\n",
        "  - [Confidence Intervals on Box Plots](https://matplotlib.org/3.1.1/api/_as_gen/matplotlib.axes.Axes.boxplot.html)\n",
        "\n",
        "### 3) In your own words, summarize the difference between Bayesian and Frequentist statistics\n",
        "\n",
        "If you're unsure where to start, check out [this blog post of Bayes theorem with Python](https://dataconomy.com/2015/02/introduction-to-bayes-theorem-with-python/).\n",
        "\n"
      ]
    },
    {
      "cell_type": "markdown",
      "metadata": {
        "colab_type": "text",
        "id": "USPTYv2_NWxe"
      },
      "source": [
        "## Bayes Theorem\n",
        "\n",
        "$$ P(A|B) = \\frac{P(B|A) \\times P(A)}{P(B)}$$\n",
        "\n",
        "The probability of A given B is equal to the product of probability of B given A multiplied by the probability of A all over the probability of B\n",
        "\n",
        "if $P(A)$ is the probability that someone is a drug user, and $P(B)$ is the probability of getting a positive result, we can figure out the probability that a drug user will have a positive result.\n",
        "\n",
        "### Drug Tests\n",
        "* Given:\n",
        "  * Probability of a drug user testing positive = 1\n",
        "  * Probability of a non-drug user testing positive = .01\n",
        "  * Probability of someone being a drug user = 1/200\n"
      ]
    },
    {
      "source": [
        "# TODO - code!\n",
        "def bayes_testing(\n",
        "    prior:float, \n",
        "    sensitivity:float, \n",
        "    specificity:float, \n",
        "    num_tests:int = 1) -> float:\n",
        "    \"\"\" Return the probablity of a positive result being true\n",
        "\n",
        "    Args:\n",
        "        prior (float)\n",
        "        sensitivity (float): probability of true positive\n",
        "        specificity (float) probability of false positive\n",
        "        num_tests (int): The number of tests to run\n",
        "\n",
        "    Returns:\n",
        "        bayesian probability (float)\n",
        "    \"\"\"\n",
        "\n",
        "    p_b_given_a = sensitivity \n",
        "    numerator = p_b_given_a * prior\n",
        "\n",
        "    # Add probability of user + with non-user+\n",
        "\n",
        "    denominator = numerator + ((specificity * (1-prior)))\n",
        "    result = numerator / denominator\n",
        "    num_tests -= 1\n",
        "    if num_tests > 0:\n",
        "        return bayes_testing(result, sensitivity, specificity, num_tests)\n",
        "    else:\n",
        "        return result\n",
        ""
      ],
      "cell_type": "code",
      "outputs": [],
      "metadata": {},
      "execution_count": 3
    },
    {
      "source": [
        "bayes_testing(1/200,1,.01, 1)"
      ],
      "cell_type": "code",
      "outputs": [
        {
          "output_type": "execute_result",
          "data": {
            "text/plain": "0.33444816053511706"
          },
          "metadata": {},
          "execution_count": 4
        }
      ],
      "metadata": {},
      "execution_count": 4
    },
    {
      "cell_type": "markdown",
      "metadata": {
        "colab_type": "text",
        "id": "I1RxE58JNWxo"
      },
      "source": [
        "#### Result\n",
        "The probability of a randomly selected individual with a positive result is a drug user is $33.4\\%$"
      ]
    },
    {
      "cell_type": "markdown",
      "metadata": {
        "colab_type": "text",
        "id": "_tmtysKWNWxp"
      },
      "source": [
        "### Drunk Driving\n",
        "`def prob_drunk_given_positive(prob_drunk_prior, false_positive_rate):` \n",
        "\n",
        "You should only truly need these two values in order to apply Bayes Theorem. In this example, imagine that individuals are taking a breathalyzer test with an 8% false positive rate, a 100% true positive rate, and that our prior belief about drunk driving in the population is 1/1000. \n",
        " - What is the probability that a person is drunk after one positive breathalyzer test?\n",
        " - What is the probability that a person is drunk after two positive breathalyzer tests?\n",
        " - How many positive breathalyzer tests are needed in order to have a probability that's greater than 95% that a person is drunk beyond the legal limit?\n"
      ]
    },
    {
      "source": [
        "prior = 1/1000\n",
        "sensitivity = 1\n",
        "specificity = .08\n",
        "\n",
        "def prob_drunk_given_positive(prob_drunk_prior, false_positive_rate, true_positive_rate):\n",
        "    return bayes_testing(prior, sensitivity, specificity, 1)\n",
        "\n",
        "prob_drunk_given_positive(prior,specificity, sensitivity)"
      ],
      "cell_type": "code",
      "outputs": [
        {
          "output_type": "execute_result",
          "data": {
            "text/plain": "0.012357884330202669"
          },
          "metadata": {},
          "execution_count": 5
        }
      ],
      "metadata": {},
      "execution_count": 5
    },
    {
      "source": [
        "bayes_testing(prior, sensitivity, specificity, 2)"
      ],
      "cell_type": "code",
      "outputs": [
        {
          "output_type": "execute_result",
          "data": {
            "text/plain": "0.13525210993291495"
          },
          "metadata": {},
          "execution_count": 6
        }
      ],
      "metadata": {},
      "execution_count": 6
    },
    {
      "source": [
        "def bayes_loop(a, b, c):\n",
        "\n",
        "    probability = a\n",
        "    for i in range(1,1000):\n",
        "        probability = bayes_testing(probability, b, c)\n",
        "        # print(probability)\n",
        "        if probability >= .95:\n",
        "            \n",
        "            return i"
      ],
      "cell_type": "code",
      "outputs": [],
      "metadata": {},
      "execution_count": 7
    },
    {
      "source": [
        "print(f'The number of repeated tests for a greater than 95% confidence is: {bayes_loop(prior, sensitivity, specificity)}')"
      ],
      "cell_type": "code",
      "outputs": [
        {
          "output_type": "stream",
          "name": "stdout",
          "text": "The number of repeated tests for a greater than 95% confidence is: 4\n"
        }
      ],
      "metadata": {},
      "execution_count": 8
    },
    {
      "cell_type": "markdown",
      "metadata": {
        "colab_type": "text",
        "id": "SFJKQKzZNaIr"
      },
      "source": [
        "Real world Breathalyzers. [Citation](https://www.ncbi.nlm.nih.gov/pmc/articles/PMC4281544/)\n",
        "\n",
        "> The digital multiuse breathalyser had a sensitivity of 89.5% (95% CI 75.9% to 95.8%) and a specificity of 64.1% (95% CI 56.6% to 71.0%)\n",
        "\n",
        "> 20% of fatal accidents involve a drunk driver\n",
        "[Source](https://crashstats.nhtsa.dot.gov/Api/Public/ViewPublication/812630)\n"
      ]
    },
    {
      "source": [
        "real_world_bayes = bayes_testing(.2, .895, .641)\n",
        "\n",
        "print(f'The real world probablity of a driver actually being drunk given a positive test is: {real_world_bayes*100}%')"
      ],
      "cell_type": "code",
      "outputs": [
        {
          "output_type": "stream",
          "name": "stdout",
          "text": "The real world probablity of a driver actually being drunk given a positive test is: 25.874530211043655%\n"
        }
      ],
      "metadata": {},
      "execution_count": 9
    },
    {
      "source": [
        "real_world_99 = bayes_loop(.2, .895, .641)\n",
        "\n",
        "print(f'In order to have a confidence >95%, you would need to test {real_world_99} times')"
      ],
      "cell_type": "code",
      "outputs": [
        {
          "output_type": "stream",
          "name": "stdout",
          "text": "In order to have a confidence >95%, you would need to test 13 times\n"
        }
      ],
      "metadata": {},
      "execution_count": 10
    },
    {
      "cell_type": "markdown",
      "metadata": {
        "colab_type": "text",
        "id": "uWgWjp3PQ3Sq"
      },
      "source": [
        "## Resources"
      ]
    },
    {
      "cell_type": "markdown",
      "metadata": {
        "colab_type": "text",
        "id": "QRgHqmYIQ9qn"
      },
      "source": [
        "- [Worked example of Bayes rule calculation](https://en.wikipedia.org/wiki/Bayes'_theorem#Examples) (helpful as it fully breaks out the denominator)\n",
        "- [Source code for mvsdist in scipy](https://github.com/scipy/scipy/blob/90534919e139d2a81c24bf08341734ff41a3db12/scipy/stats/morestats.py#L139)"
      ]
    },
    {
      "cell_type": "markdown",
      "metadata": {
        "colab_type": "text",
        "id": "GP7Jv1XvwtkX"
      },
      "source": [
        "## Stretch Goals:\n",
        "\n",
        "- Go back and study the content from Modules 1 & 2 to make sure that you're really comfortable with them.\n",
        "- Apply a Bayesian technique to a problem you previously worked (in an assignment or project work) on from a frequentist (standard) perspective\n",
        "- Check out [PyMC3](https://docs.pymc.io/) (note this goes beyond hypothesis tests into modeling) - read the guides and work through some examples\n",
        "- Take PyMC3 further - see if you can build something with it!"
      ]
    },
    {
      "cell_type": "code",
      "execution_count": 0,
      "metadata": {
        "colab": {},
        "colab_type": "code",
        "id": "iDi0eFr1x-v_"
      },
      "outputs": [],
      "source": [
        ""
      ]
    }
  ]
}